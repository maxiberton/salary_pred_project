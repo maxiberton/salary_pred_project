{
 "cells": [
  {
   "cell_type": "code",
   "execution_count": 51,
   "outputs": [],
   "source": [
    "import pandas as pd\n",
    "import numpy as np\n",
    "import seaborn as sns\n",
    "import matplotlib.pyplot as plt"
   ],
   "metadata": {
    "collapsed": false,
    "pycharm": {
     "name": "#%%\n"
    }
   }
  },
  {
   "cell_type": "code",
   "execution_count": 52,
   "outputs": [
    {
     "data": {
      "text/plain": "     company_name              job_title     location   state    est_salary  \\\n0  Talentheed Inc  Junior Data Scientist       Remote  Remote  57000-119000   \n1    sourcemantra         Data Scientist  Redmond, WA      WA  63000-123000   \n\n   min_salary  max_salary  python  spark  excel  aws  rating  \\\n0     57000.0    119000.0       0      0      0    0    -1.0   \n1     63000.0    123000.0       0      0      0    0     3.7   \n\n               sector          industry  job_age  \\\n0           Not given         Not given     16.0   \n1  Financial Services  Accounting & Tax     25.0   \n\n                                     job_description  \n0  Responsibilities:\\nIdentify valuable data sour...  \n1  Hi,\\nHope you are doing good!!!\\nRole: Data Sc...  ",
      "text/html": "<div>\n<style scoped>\n    .dataframe tbody tr th:only-of-type {\n        vertical-align: middle;\n    }\n\n    .dataframe tbody tr th {\n        vertical-align: top;\n    }\n\n    .dataframe thead th {\n        text-align: right;\n    }\n</style>\n<table border=\"1\" class=\"dataframe\">\n  <thead>\n    <tr style=\"text-align: right;\">\n      <th></th>\n      <th>company_name</th>\n      <th>job_title</th>\n      <th>location</th>\n      <th>state</th>\n      <th>est_salary</th>\n      <th>min_salary</th>\n      <th>max_salary</th>\n      <th>python</th>\n      <th>spark</th>\n      <th>excel</th>\n      <th>aws</th>\n      <th>rating</th>\n      <th>sector</th>\n      <th>industry</th>\n      <th>job_age</th>\n      <th>job_description</th>\n    </tr>\n  </thead>\n  <tbody>\n    <tr>\n      <th>0</th>\n      <td>Talentheed Inc</td>\n      <td>Junior Data Scientist</td>\n      <td>Remote</td>\n      <td>Remote</td>\n      <td>57000-119000</td>\n      <td>57000.0</td>\n      <td>119000.0</td>\n      <td>0</td>\n      <td>0</td>\n      <td>0</td>\n      <td>0</td>\n      <td>-1.0</td>\n      <td>Not given</td>\n      <td>Not given</td>\n      <td>16.0</td>\n      <td>Responsibilities:\\nIdentify valuable data sour...</td>\n    </tr>\n    <tr>\n      <th>1</th>\n      <td>sourcemantra</td>\n      <td>Data Scientist</td>\n      <td>Redmond, WA</td>\n      <td>WA</td>\n      <td>63000-123000</td>\n      <td>63000.0</td>\n      <td>123000.0</td>\n      <td>0</td>\n      <td>0</td>\n      <td>0</td>\n      <td>0</td>\n      <td>3.7</td>\n      <td>Financial Services</td>\n      <td>Accounting &amp; Tax</td>\n      <td>25.0</td>\n      <td>Hi,\\nHope you are doing good!!!\\nRole: Data Sc...</td>\n    </tr>\n  </tbody>\n</table>\n</div>"
     },
     "execution_count": 52,
     "metadata": {},
     "output_type": "execute_result"
    }
   ],
   "source": [
    "df = pd.read_csv('clean_jobs_data.csv')\n",
    "df.head(2)"
   ],
   "metadata": {
    "collapsed": false,
    "pycharm": {
     "name": "#%%\n"
    }
   }
  },
  {
   "cell_type": "code",
   "execution_count": 31,
   "outputs": [
    {
     "data": {
      "text/plain": "Index(['company_name', 'job_title', 'location', 'state', 'est_salary',\n       'min_salary', 'max_salary', 'python', 'spark', 'excel', 'aws', 'rating',\n       'sector', 'industry', 'job_age', 'job_description'],\n      dtype='object')"
     },
     "execution_count": 31,
     "metadata": {},
     "output_type": "execute_result"
    }
   ],
   "source": [
    "df.columns"
   ],
   "metadata": {
    "collapsed": false,
    "pycharm": {
     "name": "#%%\n"
    }
   }
  },
  {
   "cell_type": "code",
   "execution_count": 33,
   "outputs": [
    {
     "data": {
      "text/plain": "array(['Data Scientist', 'Graduate Data Scientist - Role Can be Remote',\n       'CO-OP, DATA SCIENCE', 'Data Scientist - Remote',\n       'Junior Data Scientist', 'Senior Data Scientist',\n       'Data Scientist, Junior', 'Data Scientist - Professional Services',\n       'Data Scientist - 100% Remote',\n       'Data Scientist (Python & SQL) -- Remote Work',\n       'Sr. Data Scientist', 'Data Scientist, NLP',\n       'Data Scientist, Analytics', 'Data Scientist 2',\n       'Jr. Data Scientist (Remote Eligible)',\n       'Data Scientist (Upstream)',\n       'Data Scientist - OPEN TO 100% REMOTE WORK (US ONLY)',\n       'Data Scientist (Python/SQL)', 'Data Analyst/Statistician',\n       'Junior Quant Researcher - NLP Team',\n       'Data Scientist, Shopping Monetization',\n       'Data Scientist - (Remote)', 'Data Scientist II, Analytics',\n       'Jr Data Scientist - Remote', 'Jr. Data Scientist',\n       'Credit Strategy Analyst - Data Scientist',\n       'Data Scientist (SPARK)',\n       'Senior Data Scientist - Gaming Platform AI',\n       'Data Scientist, Content Analytics, Podcasts & Studios',\n       'Staff / Sr. Data Scientist, Personalization / Machine Learning',\n       'Data Scientist II, Revenue',\n       'Machine Learning Engineer, Personalization',\n       'Associate Scientist, Data Support',\n       'Jr. Data Scientist, Revenue Operations',\n       'AI Scientist / Sr. AI Scientist, (Artificial Intelligence/Machine Learning)',\n       'Jr. Software Engineer, Gameplay AI', 'Data Scientist- Remote',\n       'Data Scientist - Analytics', 'Machine Learning Engineer',\n       'Principal Real World Data Scientist',\n       'Data Scientist - Experimentation Platform',\n       'Machine Learning Compiler', 'Data Scientist, Tiktok Experience',\n       'Data Scientist, Product Analytics', 'Associate Data Scientist',\n       'Machine learning scientist',\n       'Data Scientist - Construction & Infrastructure, North America',\n       'Geospatial Data Scientist, Senior',\n       'Senior Machine Learning Engineer', 'Geospatial Data Scientist 2',\n       'Data Analytics Scientist', 'Lead Data Scientist (Remote)',\n       'Data Scientist Associate (REMOTE)', 'Principal Data Scientist',\n       'Data Scientist, Operations Decision Science',\n       'Machine Learning Scientist 2',\n       'Data Scientist, E-commerce Risk Control, TikTok-US-Tech Services',\n       'Strategic Analytics Lead Data Scientist',\n       'Machine Learning Engineer / Data Scientist',\n       'Junior Data Scientist (US - East Coast)',\n       'Senior Data Scientist (14469) - North America (Remote)',\n       'Senior Data Scientist, Technical (Remote)',\n       'Staff Data Scientist',\n       'Data Scientist (Business Analytics)-Remote',\n       'Data Science, Decision Scientist', 'Machine Learning Scientist',\n       'Data Scientist, Enterprise Marketing',\n       'Data Scientist - TikTok Account', 'Senior Data Scientist, Growth',\n       'Sr. Machine Learning Engineer', 'Data Scientist 1'], dtype=object)"
     },
     "execution_count": 33,
     "metadata": {},
     "output_type": "execute_result"
    }
   ],
   "source": [
    "df.job_title.unique()"
   ],
   "metadata": {
    "collapsed": false,
    "pycharm": {
     "name": "#%%\n"
    }
   }
  },
  {
   "cell_type": "code",
   "execution_count": 40,
   "outputs": [],
   "source": [
    "def simplify_job_title(job_title):\n",
    "    if 'data science' in job_title.lower() or 'data scientist' in job_title.lower():\n",
    "        return 'data science'\n",
    "    elif 'machine learning' in job_title.lower():\n",
    "        return 'ml'\n",
    "    elif 'analyst' in job_title.lower():\n",
    "        return 'analyst'\n",
    "    elif 'data engineer' in job_title.lower():\n",
    "        return 'data engineer'\n",
    "    elif 'manager' in job_title.lower():\n",
    "        return 'manager'\n",
    "    elif 'director' in job_title.lower():\n",
    "        return 'director'\n",
    "    else:\n",
    "        return 'na'\n",
    "\n",
    "def seniority(job_title):\n",
    "    for sen_sen in ['senior', 'sr', 'sr.']:\n",
    "        if sen_sen in job_title.lower():\n",
    "            return 'senior'\n",
    "    for sen_jr in ['junior', 'jr', 'jr.']:\n",
    "        if sen_jr in job_title.lower():\n",
    "            return 'junior'\n",
    "    return 'na'"
   ],
   "metadata": {
    "collapsed": false,
    "pycharm": {
     "name": "#%%\n"
    }
   }
  },
  {
   "cell_type": "code",
   "execution_count": 47,
   "outputs": [],
   "source": [
    "df['simp_job_title'] = df.job_title.apply(lambda x: simplify_job_title(x))\n",
    "df['seniority'] = df.job_title.apply(lambda x: seniority(x))\n",
    "df['job_description'] = df.job_description.apply(lambda x: x.lower())\n",
    "df['avg_salary'] = (df['min_salary'] + df['max_salary']) / 2"
   ],
   "metadata": {
    "collapsed": false,
    "pycharm": {
     "name": "#%%\n"
    }
   }
  },
  {
   "cell_type": "code",
   "execution_count": 48,
   "outputs": [
    {
     "data": {
      "text/plain": "na        740\njunior    159\nsenior    101\nName: seniority, dtype: int64"
     },
     "execution_count": 48,
     "metadata": {},
     "output_type": "execute_result"
    }
   ],
   "source": [
    "df.seniority.value_counts()"
   ],
   "metadata": {
    "collapsed": false,
    "pycharm": {
     "name": "#%%\n"
    }
   }
  },
  {
   "cell_type": "code",
   "execution_count": 50,
   "outputs": [
    {
     "data": {
      "text/plain": "          min_salary    max_salary       python        spark        excel  \\\ncount    1000.000000    1000.00000  1000.000000  1000.000000  1000.000000   \nmean    80249.206050  153461.98995     0.059000     0.004000     0.031000   \nstd     17446.062638   44134.95337     0.235743     0.063151     0.173404   \nmin     51000.000000   95000.00000     0.000000     0.000000     0.000000   \n25%     70000.000000  127000.00000     0.000000     0.000000     0.000000   \n50%     80000.000000  131000.00000     0.000000     0.000000     0.000000   \n75%     93000.000000  192000.00000     0.000000     0.000000     0.000000   \nmax    150000.000000  221000.00000     1.000000     1.000000     1.000000   \n\n          aws      rating    avg_salary  \ncount  1000.0  1000.00000    1000.00000  \nmean      0.0     4.05990  116855.59800  \nstd       0.0     0.55004   30257.31197  \nmin       0.0    -1.00000   74500.00000  \n25%       0.0     4.00000  100500.00000  \n50%       0.0     4.20000  103500.00000  \n75%       0.0     4.20000  142500.00000  \nmax       0.0     5.00000  164000.00000  ",
      "text/html": "<div>\n<style scoped>\n    .dataframe tbody tr th:only-of-type {\n        vertical-align: middle;\n    }\n\n    .dataframe tbody tr th {\n        vertical-align: top;\n    }\n\n    .dataframe thead th {\n        text-align: right;\n    }\n</style>\n<table border=\"1\" class=\"dataframe\">\n  <thead>\n    <tr style=\"text-align: right;\">\n      <th></th>\n      <th>min_salary</th>\n      <th>max_salary</th>\n      <th>python</th>\n      <th>spark</th>\n      <th>excel</th>\n      <th>aws</th>\n      <th>rating</th>\n      <th>avg_salary</th>\n    </tr>\n  </thead>\n  <tbody>\n    <tr>\n      <th>count</th>\n      <td>1000.000000</td>\n      <td>1000.00000</td>\n      <td>1000.000000</td>\n      <td>1000.000000</td>\n      <td>1000.000000</td>\n      <td>1000.0</td>\n      <td>1000.00000</td>\n      <td>1000.00000</td>\n    </tr>\n    <tr>\n      <th>mean</th>\n      <td>80249.206050</td>\n      <td>153461.98995</td>\n      <td>0.059000</td>\n      <td>0.004000</td>\n      <td>0.031000</td>\n      <td>0.0</td>\n      <td>4.05990</td>\n      <td>116855.59800</td>\n    </tr>\n    <tr>\n      <th>std</th>\n      <td>17446.062638</td>\n      <td>44134.95337</td>\n      <td>0.235743</td>\n      <td>0.063151</td>\n      <td>0.173404</td>\n      <td>0.0</td>\n      <td>0.55004</td>\n      <td>30257.31197</td>\n    </tr>\n    <tr>\n      <th>min</th>\n      <td>51000.000000</td>\n      <td>95000.00000</td>\n      <td>0.000000</td>\n      <td>0.000000</td>\n      <td>0.000000</td>\n      <td>0.0</td>\n      <td>-1.00000</td>\n      <td>74500.00000</td>\n    </tr>\n    <tr>\n      <th>25%</th>\n      <td>70000.000000</td>\n      <td>127000.00000</td>\n      <td>0.000000</td>\n      <td>0.000000</td>\n      <td>0.000000</td>\n      <td>0.0</td>\n      <td>4.00000</td>\n      <td>100500.00000</td>\n    </tr>\n    <tr>\n      <th>50%</th>\n      <td>80000.000000</td>\n      <td>131000.00000</td>\n      <td>0.000000</td>\n      <td>0.000000</td>\n      <td>0.000000</td>\n      <td>0.0</td>\n      <td>4.20000</td>\n      <td>103500.00000</td>\n    </tr>\n    <tr>\n      <th>75%</th>\n      <td>93000.000000</td>\n      <td>192000.00000</td>\n      <td>0.000000</td>\n      <td>0.000000</td>\n      <td>0.000000</td>\n      <td>0.0</td>\n      <td>4.20000</td>\n      <td>142500.00000</td>\n    </tr>\n    <tr>\n      <th>max</th>\n      <td>150000.000000</td>\n      <td>221000.00000</td>\n      <td>1.000000</td>\n      <td>1.000000</td>\n      <td>1.000000</td>\n      <td>0.0</td>\n      <td>5.00000</td>\n      <td>164000.00000</td>\n    </tr>\n  </tbody>\n</table>\n</div>"
     },
     "execution_count": 50,
     "metadata": {},
     "output_type": "execute_result"
    }
   ],
   "source": [
    "df.describe()"
   ],
   "metadata": {
    "collapsed": false,
    "pycharm": {
     "name": "#%%\n"
    }
   }
  },
  {
   "cell_type": "code",
   "execution_count": null,
   "outputs": [],
   "source": [],
   "metadata": {
    "collapsed": false,
    "pycharm": {
     "name": "#%%\n"
    }
   }
  },
  {
   "cell_type": "code",
   "execution_count": null,
   "outputs": [],
   "source": [],
   "metadata": {
    "collapsed": false,
    "pycharm": {
     "name": "#%%\n"
    }
   }
  },
  {
   "cell_type": "code",
   "execution_count": null,
   "metadata": {
    "collapsed": true
   },
   "outputs": [],
   "source": []
  }
 ],
 "metadata": {
  "kernelspec": {
   "display_name": "Python 3",
   "language": "python",
   "name": "python3"
  },
  "language_info": {
   "codemirror_mode": {
    "name": "ipython",
    "version": 2
   },
   "file_extension": ".py",
   "mimetype": "text/x-python",
   "name": "python",
   "nbconvert_exporter": "python",
   "pygments_lexer": "ipython2",
   "version": "2.7.6"
  }
 },
 "nbformat": 4,
 "nbformat_minor": 0
}