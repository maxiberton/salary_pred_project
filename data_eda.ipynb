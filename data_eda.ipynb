{
 "cells": [
  {
   "cell_type": "code",
   "execution_count": 1,
   "outputs": [],
   "source": [
    "import pandas as pd\n",
    "import numpy as np\n",
    "import seaborn as sns\n",
    "import matplotlib.pyplot as plt"
   ],
   "metadata": {
    "collapsed": false,
    "pycharm": {
     "name": "#%%\n"
    }
   }
  },
  {
   "cell_type": "code",
   "execution_count": 8,
   "outputs": [
    {
     "data": {
      "text/plain": "  company_name                            job_title        location state  \\\n0      Spotify  Data Scientist, Spotify Advertising    New York, NY    NY   \n1     NTT DATA                       Data Scientist  Woonsocket, RI    RI   \n\n     est_salary  min_salary  max_salary  python  spark  excel  aws  rating  \\\n0  78000-182000     78000.0    182000.0       0      0      0    0     4.2   \n1            70    145600.0    145600.0       0      0      0    0     3.8   \n\n                   sector                                 industry  job_age  \\\n0  Information Technology                  Internet & Web Services     30.0   \n1  Information Technology  Information Technology Support Services      1.0   \n\n   company_age                                    job_description  \n0         16.0  Data, Research & Insights\\nData Science\\nAt Sp...  \n1         55.0  NTT Data is assisting our healthcare client se...  ",
      "text/html": "<div>\n<style scoped>\n    .dataframe tbody tr th:only-of-type {\n        vertical-align: middle;\n    }\n\n    .dataframe tbody tr th {\n        vertical-align: top;\n    }\n\n    .dataframe thead th {\n        text-align: right;\n    }\n</style>\n<table border=\"1\" class=\"dataframe\">\n  <thead>\n    <tr style=\"text-align: right;\">\n      <th></th>\n      <th>company_name</th>\n      <th>job_title</th>\n      <th>location</th>\n      <th>state</th>\n      <th>est_salary</th>\n      <th>min_salary</th>\n      <th>max_salary</th>\n      <th>python</th>\n      <th>spark</th>\n      <th>excel</th>\n      <th>aws</th>\n      <th>rating</th>\n      <th>sector</th>\n      <th>industry</th>\n      <th>job_age</th>\n      <th>company_age</th>\n      <th>job_description</th>\n    </tr>\n  </thead>\n  <tbody>\n    <tr>\n      <th>0</th>\n      <td>Spotify</td>\n      <td>Data Scientist, Spotify Advertising</td>\n      <td>New York, NY</td>\n      <td>NY</td>\n      <td>78000-182000</td>\n      <td>78000.0</td>\n      <td>182000.0</td>\n      <td>0</td>\n      <td>0</td>\n      <td>0</td>\n      <td>0</td>\n      <td>4.2</td>\n      <td>Information Technology</td>\n      <td>Internet &amp; Web Services</td>\n      <td>30.0</td>\n      <td>16.0</td>\n      <td>Data, Research &amp; Insights\\nData Science\\nAt Sp...</td>\n    </tr>\n    <tr>\n      <th>1</th>\n      <td>NTT DATA</td>\n      <td>Data Scientist</td>\n      <td>Woonsocket, RI</td>\n      <td>RI</td>\n      <td>70</td>\n      <td>145600.0</td>\n      <td>145600.0</td>\n      <td>0</td>\n      <td>0</td>\n      <td>0</td>\n      <td>0</td>\n      <td>3.8</td>\n      <td>Information Technology</td>\n      <td>Information Technology Support Services</td>\n      <td>1.0</td>\n      <td>55.0</td>\n      <td>NTT Data is assisting our healthcare client se...</td>\n    </tr>\n  </tbody>\n</table>\n</div>"
     },
     "execution_count": 8,
     "metadata": {},
     "output_type": "execute_result"
    }
   ],
   "source": [
    "df = pd.read_csv('clean_jobs_data_1.csv')\n",
    "df.head(2)"
   ],
   "metadata": {
    "collapsed": false,
    "pycharm": {
     "name": "#%%\n"
    }
   }
  },
  {
   "cell_type": "code",
   "execution_count": 9,
   "outputs": [
    {
     "data": {
      "text/plain": "Index(['company_name', 'job_title', 'location', 'state', 'est_salary',\n       'min_salary', 'max_salary', 'python', 'spark', 'excel', 'aws', 'rating',\n       'sector', 'industry', 'job_age', 'company_age', 'job_description'],\n      dtype='object')"
     },
     "execution_count": 9,
     "metadata": {},
     "output_type": "execute_result"
    }
   ],
   "source": [
    "df.columns"
   ],
   "metadata": {
    "collapsed": false,
    "pycharm": {
     "name": "#%%\n"
    }
   }
  },
  {
   "cell_type": "code",
   "execution_count": 10,
   "outputs": [],
   "source": [
    "def simplify_job_title(job_title):\n",
    "    if 'data science' in job_title.lower() or 'data scientist' in job_title.lower():\n",
    "        return 'data science'\n",
    "    elif 'machine learning' in job_title.lower():\n",
    "        return 'ml'\n",
    "    elif 'analyst' in job_title.lower():\n",
    "        return 'analyst'\n",
    "    elif 'data engineer' in job_title.lower():\n",
    "        return 'data engineer'\n",
    "    elif 'manager' in job_title.lower():\n",
    "        return 'manager'\n",
    "    elif 'director' in job_title.lower():\n",
    "        return 'director'\n",
    "    else:\n",
    "        return 'na'\n",
    "\n",
    "def seniority(job_title):\n",
    "    for sen_sen in ['senior', 'sr', 'sr.']:\n",
    "        if sen_sen in job_title.lower():\n",
    "            return 'senior'\n",
    "    for sen_jr in ['junior', 'jr', 'jr.']:\n",
    "        if sen_jr in job_title.lower():\n",
    "            return 'junior'\n",
    "    return 'na'"
   ],
   "metadata": {
    "collapsed": false,
    "pycharm": {
     "name": "#%%\n"
    }
   }
  },
  {
   "cell_type": "code",
   "execution_count": 7,
   "outputs": [
    {
     "data": {
      "text/plain": "data science     940\nna                31\ndata engineer     28\nanalyst            1\nName: job_title, dtype: int64"
     },
     "execution_count": 7,
     "metadata": {},
     "output_type": "execute_result"
    }
   ],
   "source": [
    "df.job_title.value_counts()"
   ],
   "metadata": {
    "collapsed": false,
    "pycharm": {
     "name": "#%%\n"
    }
   }
  },
  {
   "cell_type": "code",
   "execution_count": 12,
   "outputs": [],
   "source": [
    "df['simp_job_title'] = df.job_title.apply(lambda x: simplify_job_title(x))\n",
    "df['seniority'] = df.job_title.apply(lambda x: seniority(x))\n",
    "df['job_description'] = df.job_description.apply(lambda x: x.lower())\n",
    "df['avg_salary'] = (df['min_salary'] + df['max_salary']) / 2"
   ],
   "metadata": {
    "collapsed": false,
    "pycharm": {
     "name": "#%%\n"
    }
   }
  },
  {
   "cell_type": "code",
   "execution_count": 13,
   "outputs": [
    {
     "data": {
      "text/plain": "na        885\nsenior     67\njunior     48\nName: seniority, dtype: int64"
     },
     "execution_count": 13,
     "metadata": {},
     "output_type": "execute_result"
    }
   ],
   "source": [
    "df.seniority.value_counts()"
   ],
   "metadata": {
    "collapsed": false,
    "pycharm": {
     "name": "#%%\n"
    }
   }
  },
  {
   "cell_type": "code",
   "execution_count": 14,
   "outputs": [
    {
     "data": {
      "text/plain": "data science     940\nna                31\ndata engineer     28\nanalyst            1\nName: simp_job_title, dtype: int64"
     },
     "execution_count": 14,
     "metadata": {},
     "output_type": "execute_result"
    }
   ],
   "source": [
    "df.simp_job_title.value_counts()"
   ],
   "metadata": {
    "collapsed": false,
    "pycharm": {
     "name": "#%%\n"
    }
   }
  },
  {
   "cell_type": "code",
   "execution_count": 24,
   "outputs": [],
   "source": [
    "df['desc_length'] = df.job_description.apply(lambda x: len(x))"
   ],
   "metadata": {
    "collapsed": false,
    "pycharm": {
     "name": "#%%\n"
    }
   }
  },
  {
   "cell_type": "code",
   "execution_count": 25,
   "outputs": [
    {
     "data": {
      "text/plain": "          min_salary     max_salary       python        spark        excel  \\\ncount    1000.000000    1000.000000  1000.000000  1000.000000  1000.000000   \nmean    95197.878880  136228.880000     0.106000     0.063000     0.041000   \nstd     30489.520434   56331.778001     0.307992     0.243085     0.198389   \nmin     30000.000000    2080.000000     0.000000     0.000000     0.000000   \n25%     75000.000000  116000.000000     0.000000     0.000000     0.000000   \n50%     90000.000000  135200.000000     0.000000     0.000000     0.000000   \n75%    117000.000000  168750.000000     0.000000     0.000000     0.000000   \nmax    191000.000000  276000.000000     1.000000     1.000000     1.000000   \n\n               aws       rating     job_age  company_age     avg_salary  \\\ncount  1000.000000  1000.000000  975.000000   1000.00000    1000.000000   \nmean      0.033000     3.029800   16.556923     23.69400  115713.379440   \nstd       0.178726     1.906239   11.990182     41.66798   36299.799228   \nmin       0.000000    -1.000000    1.000000     -1.00000   48638.940000   \n25%       0.000000     2.900000    4.500000     -1.00000   91000.000000   \n50%       0.000000     3.900000   14.000000      4.00000  120000.000000   \n75%       0.000000     4.200000   30.000000     23.00000  135000.000000   \nmax       1.000000     5.000000   30.000000    220.00000  233500.000000   \n\n       desc_length  \ncount  1000.000000  \nmean   1058.533000  \nstd     507.514873  \nmin      14.000000  \n25%     796.000000  \n50%     953.000000  \n75%    1305.000000  \nmax    5748.000000  ",
      "text/html": "<div>\n<style scoped>\n    .dataframe tbody tr th:only-of-type {\n        vertical-align: middle;\n    }\n\n    .dataframe tbody tr th {\n        vertical-align: top;\n    }\n\n    .dataframe thead th {\n        text-align: right;\n    }\n</style>\n<table border=\"1\" class=\"dataframe\">\n  <thead>\n    <tr style=\"text-align: right;\">\n      <th></th>\n      <th>min_salary</th>\n      <th>max_salary</th>\n      <th>python</th>\n      <th>spark</th>\n      <th>excel</th>\n      <th>aws</th>\n      <th>rating</th>\n      <th>job_age</th>\n      <th>company_age</th>\n      <th>avg_salary</th>\n      <th>desc_length</th>\n    </tr>\n  </thead>\n  <tbody>\n    <tr>\n      <th>count</th>\n      <td>1000.000000</td>\n      <td>1000.000000</td>\n      <td>1000.000000</td>\n      <td>1000.000000</td>\n      <td>1000.000000</td>\n      <td>1000.000000</td>\n      <td>1000.000000</td>\n      <td>975.000000</td>\n      <td>1000.00000</td>\n      <td>1000.000000</td>\n      <td>1000.000000</td>\n    </tr>\n    <tr>\n      <th>mean</th>\n      <td>95197.878880</td>\n      <td>136228.880000</td>\n      <td>0.106000</td>\n      <td>0.063000</td>\n      <td>0.041000</td>\n      <td>0.033000</td>\n      <td>3.029800</td>\n      <td>16.556923</td>\n      <td>23.69400</td>\n      <td>115713.379440</td>\n      <td>1058.533000</td>\n    </tr>\n    <tr>\n      <th>std</th>\n      <td>30489.520434</td>\n      <td>56331.778001</td>\n      <td>0.307992</td>\n      <td>0.243085</td>\n      <td>0.198389</td>\n      <td>0.178726</td>\n      <td>1.906239</td>\n      <td>11.990182</td>\n      <td>41.66798</td>\n      <td>36299.799228</td>\n      <td>507.514873</td>\n    </tr>\n    <tr>\n      <th>min</th>\n      <td>30000.000000</td>\n      <td>2080.000000</td>\n      <td>0.000000</td>\n      <td>0.000000</td>\n      <td>0.000000</td>\n      <td>0.000000</td>\n      <td>-1.000000</td>\n      <td>1.000000</td>\n      <td>-1.00000</td>\n      <td>48638.940000</td>\n      <td>14.000000</td>\n    </tr>\n    <tr>\n      <th>25%</th>\n      <td>75000.000000</td>\n      <td>116000.000000</td>\n      <td>0.000000</td>\n      <td>0.000000</td>\n      <td>0.000000</td>\n      <td>0.000000</td>\n      <td>2.900000</td>\n      <td>4.500000</td>\n      <td>-1.00000</td>\n      <td>91000.000000</td>\n      <td>796.000000</td>\n    </tr>\n    <tr>\n      <th>50%</th>\n      <td>90000.000000</td>\n      <td>135200.000000</td>\n      <td>0.000000</td>\n      <td>0.000000</td>\n      <td>0.000000</td>\n      <td>0.000000</td>\n      <td>3.900000</td>\n      <td>14.000000</td>\n      <td>4.00000</td>\n      <td>120000.000000</td>\n      <td>953.000000</td>\n    </tr>\n    <tr>\n      <th>75%</th>\n      <td>117000.000000</td>\n      <td>168750.000000</td>\n      <td>0.000000</td>\n      <td>0.000000</td>\n      <td>0.000000</td>\n      <td>0.000000</td>\n      <td>4.200000</td>\n      <td>30.000000</td>\n      <td>23.00000</td>\n      <td>135000.000000</td>\n      <td>1305.000000</td>\n    </tr>\n    <tr>\n      <th>max</th>\n      <td>191000.000000</td>\n      <td>276000.000000</td>\n      <td>1.000000</td>\n      <td>1.000000</td>\n      <td>1.000000</td>\n      <td>1.000000</td>\n      <td>5.000000</td>\n      <td>30.000000</td>\n      <td>220.00000</td>\n      <td>233500.000000</td>\n      <td>5748.000000</td>\n    </tr>\n  </tbody>\n</table>\n</div>"
     },
     "execution_count": 25,
     "metadata": {},
     "output_type": "execute_result"
    }
   ],
   "source": [
    "df.describe()"
   ],
   "metadata": {
    "collapsed": false,
    "pycharm": {
     "name": "#%%\n"
    }
   }
  },
  {
   "cell_type": "code",
   "execution_count": 26,
   "outputs": [],
   "source": [
    "num_cols = list(df.select_dtypes(include=np.number).columns)\n",
    "for i in ['aws', 'python', 'spark', 'excel']:\n",
    "    num_cols.remove(i)"
   ],
   "metadata": {
    "collapsed": false,
    "pycharm": {
     "name": "#%%\n"
    }
   }
  },
  {
   "cell_type": "code",
   "execution_count": 27,
   "outputs": [
    {
     "data": {
      "text/plain": "['min_salary',\n 'max_salary',\n 'rating',\n 'job_age',\n 'company_age',\n 'avg_salary',\n 'desc_length']"
     },
     "execution_count": 27,
     "metadata": {},
     "output_type": "execute_result"
    }
   ],
   "source": [
    "num_cols"
   ],
   "metadata": {
    "collapsed": false,
    "pycharm": {
     "name": "#%%\n"
    }
   }
  },
  {
   "cell_type": "code",
   "execution_count": 29,
   "metadata": {
    "collapsed": true
   },
   "outputs": [
    {
     "data": {
      "text/plain": "<Figure size 1152x720 with 7 Axes>",
      "image/png": "[encoded data removed]"
     },
     "metadata": {
      "needs_background": "light"
     },
     "output_type": "display_data"
    }
   ],
   "source": [
    "plt.figure(figsize=(16, 10))\n",
    "for pos, col in enumerate(num_cols):\n",
    "    plt.subplot(4, 2, pos+1)\n",
    "    sns.histplot(df[col], bins=8)\n",
    "    plt.xticks(rotation=30)"
   ]
  },
  {
   "cell_type": "code",
   "execution_count": 22,
   "outputs": [
    {
     "data": {
      "text/plain": "<AxesSubplot:>"
     },
     "execution_count": 22,
     "metadata": {},
     "output_type": "execute_result"
    },
    {
     "data": {
      "text/plain": "<Figure size 432x288 with 1 Axes>",
      "image/png": "[encoded data removed]"
     },
     "metadata": {
      "needs_background": "light"
     },
     "output_type": "display_data"
    }
   ],
   "source": [
    "df.boxplot(column=['min_salary', 'max_salary', 'avg_salary'])"
   ],
   "metadata": {
    "collapsed": false,
    "pycharm": {
     "name": "#%%\n"
    }
   }
  },
  {
   "cell_type": "code",
   "execution_count": 23,
   "outputs": [
    {
     "data": {
      "text/plain": "<AxesSubplot:>"
     },
     "execution_count": 23,
     "metadata": {},
     "output_type": "execute_result"
    },
    {
     "data": {
      "text/plain": "<Figure size 432x288 with 1 Axes>",
      "image/png": "[encoded data removed]"
     },
     "metadata": {
      "needs_background": "light"
     },
     "output_type": "display_data"
    }
   ],
   "source": [
    "df.boxplot(column=['rating'])"
   ],
   "metadata": {
    "collapsed": false,
    "pycharm": {
     "name": "#%%\n"
    }
   }
  },
  {
   "cell_type": "code",
   "execution_count": 41,
   "outputs": [
    {
     "data": {
      "text/plain": "             company_age  avg_salary    rating  desc_length  min_salary  \\\ncompany_age     1.000000   -0.043118  0.288010     0.032509   -0.154533   \navg_salary     -0.043118    1.000000  0.427029     0.085902    0.683760   \nrating          0.288010    0.427029  1.000000    -0.052168    0.006130   \ndesc_length     0.032509    0.085902 -0.052168     1.000000   -0.069500   \nmin_salary     -0.154533    0.683760  0.006130    -0.069500    1.000000   \nmax_salary      0.028071    0.918701  0.547032     0.148326    0.339971   \n\n             max_salary  \ncompany_age    0.028071  \navg_salary     0.918701  \nrating         0.547032  \ndesc_length    0.148326  \nmin_salary     0.339971  \nmax_salary     1.000000  ",
      "text/html": "<div>\n<style scoped>\n    .dataframe tbody tr th:only-of-type {\n        vertical-align: middle;\n    }\n\n    .dataframe tbody tr th {\n        vertical-align: top;\n    }\n\n    .dataframe thead th {\n        text-align: right;\n    }\n</style>\n<table border=\"1\" class=\"dataframe\">\n  <thead>\n    <tr style=\"text-align: right;\">\n      <th></th>\n      <th>company_age</th>\n      <th>avg_salary</th>\n      <th>rating</th>\n      <th>desc_length</th>\n      <th>min_salary</th>\n      <th>max_salary</th>\n    </tr>\n  </thead>\n  <tbody>\n    <tr>\n      <th>company_age</th>\n      <td>1.000000</td>\n      <td>-0.043118</td>\n      <td>0.288010</td>\n      <td>0.032509</td>\n      <td>-0.154533</td>\n      <td>0.028071</td>\n    </tr>\n    <tr>\n      <th>avg_salary</th>\n      <td>-0.043118</td>\n      <td>1.000000</td>\n      <td>0.427029</td>\n      <td>0.085902</td>\n      <td>0.683760</td>\n      <td>0.918701</td>\n    </tr>\n    <tr>\n      <th>rating</th>\n      <td>0.288010</td>\n      <td>0.427029</td>\n      <td>1.000000</td>\n      <td>-0.052168</td>\n      <td>0.006130</td>\n      <td>0.547032</td>\n    </tr>\n    <tr>\n      <th>desc_length</th>\n      <td>0.032509</td>\n      <td>0.085902</td>\n      <td>-0.052168</td>\n      <td>1.000000</td>\n      <td>-0.069500</td>\n      <td>0.148326</td>\n    </tr>\n    <tr>\n      <th>min_salary</th>\n      <td>-0.154533</td>\n      <td>0.683760</td>\n      <td>0.006130</td>\n      <td>-0.069500</td>\n      <td>1.000000</td>\n      <td>0.339971</td>\n    </tr>\n    <tr>\n      <th>max_salary</th>\n      <td>0.028071</td>\n      <td>0.918701</td>\n      <td>0.547032</td>\n      <td>0.148326</td>\n      <td>0.339971</td>\n      <td>1.000000</td>\n    </tr>\n  </tbody>\n</table>\n</div>"
     },
     "execution_count": 41,
     "metadata": {},
     "output_type": "execute_result"
    }
   ],
   "source": [
    "df[['company_age', 'avg_salary', 'rating', 'desc_length', 'min_salary', 'max_salary']].corr()"
   ],
   "metadata": {
    "collapsed": false,
    "pycharm": {
     "name": "#%%\n"
    }
   }
  },
  {
   "cell_type": "code",
   "execution_count": 42,
   "outputs": [
    {
     "data": {
      "text/plain": "<AxesSubplot:>"
     },
     "execution_count": 42,
     "metadata": {},
     "output_type": "execute_result"
    },
    {
     "data": {
      "text/plain": "<Figure size 432x288 with 2 Axes>",
      "image/png": "[encoded data removed]"
     },
     "metadata": {
      "needs_background": "light"
     },
     "output_type": "display_data"
    }
   ],
   "source": [
    "sns.heatmap(df[['company_age', 'avg_salary', 'rating', 'desc_length']].corr(), vmax=.3, center=0, square=True, linewidths=.5, cbar_kws={'shrink':.5}, cmap='crest', cbar=True)"
   ],
   "metadata": {
    "collapsed": false,
    "pycharm": {
     "name": "#%%\n"
    }
   }
  },
  {
   "cell_type": "code",
   "execution_count": 39,
   "outputs": [
    {
     "data": {
      "text/plain": "Index(['company_name', 'job_title', 'location', 'state', 'est_salary',\n       'sector', 'industry', 'job_description', 'simp_job_title', 'seniority'],\n      dtype='object')"
     },
     "execution_count": 39,
     "metadata": {},
     "output_type": "execute_result"
    }
   ],
   "source": [
    "non_numeric = df.select_dtypes(exclude=np.number)\n",
    "non_numeric.columns"
   ],
   "metadata": {
    "collapsed": false,
    "pycharm": {
     "name": "#%%\n"
    }
   }
  },
  {
   "cell_type": "code",
   "execution_count": 43,
   "outputs": [
    {
     "name": "stderr",
     "output_type": "stream",
     "text": [
      "/Library/Frameworks/Python.framework/Versions/3.8/lib/python3.8/site-packages/pandas/core/frame.py:4906: SettingWithCopyWarning: \n",
      "A value is trying to be set on a copy of a slice from a DataFrame\n",
      "\n",
      "See the caveats in the documentation: https://pandas.pydata.org/pandas-docs/stable/user_guide/indexing.html#returning-a-view-versus-a-copy\n",
      "  return super().drop(\n"
     ]
    },
    {
     "data": {
      "text/plain": "  state                  sector                                 industry  \\\n0    NY  Information Technology                  Internet & Web Services   \n1    RI  Information Technology  Information Technology Support Services   \n2    TX           Manufacturing            Food & Beverage Manufacturing   \n\n  simp_job_title seniority  \n0   data science        na  \n1   data science        na  \n2   data science        na  ",
      "text/html": "<div>\n<style scoped>\n    .dataframe tbody tr th:only-of-type {\n        vertical-align: middle;\n    }\n\n    .dataframe tbody tr th {\n        vertical-align: top;\n    }\n\n    .dataframe thead th {\n        text-align: right;\n    }\n</style>\n<table border=\"1\" class=\"dataframe\">\n  <thead>\n    <tr style=\"text-align: right;\">\n      <th></th>\n      <th>state</th>\n      <th>sector</th>\n      <th>industry</th>\n      <th>simp_job_title</th>\n      <th>seniority</th>\n    </tr>\n  </thead>\n  <tbody>\n    <tr>\n      <th>0</th>\n      <td>NY</td>\n      <td>Information Technology</td>\n      <td>Internet &amp; Web Services</td>\n      <td>data science</td>\n      <td>na</td>\n    </tr>\n    <tr>\n      <th>1</th>\n      <td>RI</td>\n      <td>Information Technology</td>\n      <td>Information Technology Support Services</td>\n      <td>data science</td>\n      <td>na</td>\n    </tr>\n    <tr>\n      <th>2</th>\n      <td>TX</td>\n      <td>Manufacturing</td>\n      <td>Food &amp; Beverage Manufacturing</td>\n      <td>data science</td>\n      <td>na</td>\n    </tr>\n  </tbody>\n</table>\n</div>"
     },
     "execution_count": 43,
     "metadata": {},
     "output_type": "execute_result"
    }
   ],
   "source": [
    "non_numeric.drop(columns=['company_name', 'job_title', 'location', 'est_salary', 'job_description'], inplace=True)\n",
    "non_numeric.head(3)"
   ],
   "metadata": {
    "collapsed": false,
    "pycharm": {
     "name": "#%%\n"
    }
   }
  },
  {
   "cell_type": "code",
   "execution_count": 56,
   "outputs": [
    {
     "data": {
      "text/plain": "-1.0                                  262\nInformation Technology                256\nManufacturing                          93\nFinancial Services                     86\nPharmaceutical & Biotechnology         85\nManagement & Consulting                54\nGovernment & Public Administration     35\nRetail & Wholesale                     34\nTransportation & Logistics             30\nArts, Entertainment & Recreation       30\nHealthcare                             16\nHuman Resources & Staffing              5\nInsurance                               3\nEducation                               2\nHotels & Travel Accommodation           2\nMedia & Communication                   2\nEnergy, Mining & Utilities              2\nRestaurants & Food Service              1\nReal Estate                             1\nTelecommunications                      1\nName: sector, dtype: int64"
     },
     "execution_count": 56,
     "metadata": {},
     "output_type": "execute_result"
    }
   ],
   "source": [
    "non_numeric['sector'].value_counts()"
   ],
   "metadata": {
    "collapsed": false,
    "pycharm": {
     "name": "#%%\n"
    }
   }
  },
  {
   "cell_type": "code",
   "execution_count": null,
   "outputs": [],
   "source": [],
   "metadata": {
    "collapsed": false,
    "pycharm": {
     "name": "#%%\n"
    }
   }
  },
  {
   "cell_type": "code",
   "execution_count": null,
   "outputs": [],
   "source": [],
   "metadata": {
    "collapsed": false,
    "pycharm": {
     "name": "#%%\n"
    }
   }
  },
  {
   "cell_type": "code",
   "execution_count": null,
   "outputs": [],
   "source": [],
   "metadata": {
    "collapsed": false,
    "pycharm": {
     "name": "#%%\n"
    }
   }
  },
  {
   "cell_type": "code",
   "execution_count": null,
   "outputs": [],
   "source": [],
   "metadata": {
    "collapsed": false,
    "pycharm": {
     "name": "#%%\n"
    }
   }
  },
  {
   "cell_type": "code",
   "execution_count": null,
   "outputs": [],
   "source": [],
   "metadata": {
    "collapsed": false,
    "pycharm": {
     "name": "#%%\n"
    }
   }
  },
  {
   "cell_type": "code",
   "execution_count": null,
   "outputs": [],
   "source": [],
   "metadata": {
    "collapsed": false,
    "pycharm": {
     "name": "#%%\n"
    }
   }
  },
  {
   "cell_type": "code",
   "execution_count": null,
   "outputs": [],
   "source": [],
   "metadata": {
    "collapsed": false,
    "pycharm": {
     "name": "#%%\n"
    }
   }
  },
  {
   "cell_type": "code",
   "execution_count": null,
   "outputs": [],
   "source": [],
   "metadata": {
    "collapsed": false,
    "pycharm": {
     "name": "#%%\n"
    }
   }
  },
  {
   "cell_type": "code",
   "execution_count": null,
   "outputs": [],
   "source": [],
   "metadata": {
    "collapsed": false,
    "pycharm": {
     "name": "#%%\n"
    }
   }
  },
  {
   "cell_type": "code",
   "execution_count": null,
   "outputs": [],
   "source": [],
   "metadata": {
    "collapsed": false,
    "pycharm": {
     "name": "#%%\n"
    }
   }
  },
  {
   "cell_type": "code",
   "execution_count": null,
   "outputs": [],
   "source": [],
   "metadata": {
    "collapsed": false,
    "pycharm": {
     "name": "#%%\n"
    }
   }
  },
  {
   "cell_type": "code",
   "execution_count": null,
   "outputs": [],
   "source": [],
   "metadata": {
    "collapsed": false,
    "pycharm": {
     "name": "#%%\n"
    }
   }
  },
  {
   "cell_type": "code",
   "execution_count": null,
   "outputs": [],
   "source": [],
   "metadata": {
    "collapsed": false,
    "pycharm": {
     "name": "#%%\n"
    }
   }
  },
  {
   "cell_type": "code",
   "execution_count": null,
   "outputs": [],
   "source": [],
   "metadata": {
    "collapsed": false,
    "pycharm": {
     "name": "#%%\n"
    }
   }
  },
  {
   "cell_type": "code",
   "execution_count": null,
   "outputs": [],
   "source": [],
   "metadata": {
    "collapsed": false,
    "pycharm": {
     "name": "#%%\n"
    }
   }
  },
  {
   "cell_type": "code",
   "execution_count": null,
   "outputs": [],
   "source": [],
   "metadata": {
    "collapsed": false,
    "pycharm": {
     "name": "#%%\n"
    }
   }
  },
  {
   "cell_type": "code",
   "execution_count": null,
   "outputs": [],
   "source": [],
   "metadata": {
    "collapsed": false,
    "pycharm": {
     "name": "#%%\n"
    }
   }
  },
  {
   "cell_type": "code",
   "execution_count": null,
   "outputs": [],
   "source": [],
   "metadata": {
    "collapsed": false,
    "pycharm": {
     "name": "#%%\n"
    }
   }
  },
  {
   "cell_type": "code",
   "execution_count": null,
   "outputs": [],
   "source": [],
   "metadata": {
    "collapsed": false,
    "pycharm": {
     "name": "#%%\n"
    }
   }
  },
  {
   "cell_type": "code",
   "execution_count": null,
   "outputs": [],
   "source": [],
   "metadata": {
    "collapsed": false,
    "pycharm": {
     "name": "#%%\n"
    }
   }
  }
 ],
 "metadata": {
  "kernelspec": {
   "display_name": "Python 3",
   "language": "python",
   "name": "python3"
  },
  "language_info": {
   "codemirror_mode": {
    "name": "ipython",
    "version": 2
   },
   "file_extension": ".py",
   "mimetype": "text/x-python",
   "name": "python",
   "nbconvert_exporter": "python",
   "pygments_lexer": "ipython2",
   "version": "2.7.6"
  }
 },
 "nbformat": 4,
 "nbformat_minor": 0
}