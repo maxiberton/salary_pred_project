{
 "cells": [
  {
   "cell_type": "code",
   "execution_count": 1,
   "outputs": [],
   "source": [
    "import pandas as pd\n",
    "import numpy as np\n",
    "import seaborn as sns\n",
    "import matplotlib.pyplot as plt"
   ],
   "metadata": {
    "collapsed": false,
    "pycharm": {
     "name": "#%%\n"
    }
   }
  },
  {
   "cell_type": "code",
   "execution_count": 2,
   "outputs": [
    {
     "data": {
      "text/plain": "     company_name              job_title     location   state    est_salary  \\\n0  Talentheed Inc  Junior Data Scientist       Remote  Remote  57000-119000   \n1    sourcemantra         Data Scientist  Redmond, WA      WA  63000-123000   \n\n   min_salary  max_salary  python  spark  excel  aws  rating  \\\n0     57000.0    119000.0       0      0      0    0    -1.0   \n1     63000.0    123000.0       0      0      0    0     3.7   \n\n               sector          industry  job_age  \\\n0           Not given         Not given     16.0   \n1  Financial Services  Accounting & Tax     25.0   \n\n                                     job_description  \n0  Responsibilities:\\nIdentify valuable data sour...  \n1  Hi,\\nHope you are doing good!!!\\nRole: Data Sc...  ",
      "text/html": "<div>\n<style scoped>\n    .dataframe tbody tr th:only-of-type {\n        vertical-align: middle;\n    }\n\n    .dataframe tbody tr th {\n        vertical-align: top;\n    }\n\n    .dataframe thead th {\n        text-align: right;\n    }\n</style>\n<table border=\"1\" class=\"dataframe\">\n  <thead>\n    <tr style=\"text-align: right;\">\n      <th></th>\n      <th>company_name</th>\n      <th>job_title</th>\n      <th>location</th>\n      <th>state</th>\n      <th>est_salary</th>\n      <th>min_salary</th>\n      <th>max_salary</th>\n      <th>python</th>\n      <th>spark</th>\n      <th>excel</th>\n      <th>aws</th>\n      <th>rating</th>\n      <th>sector</th>\n      <th>industry</th>\n      <th>job_age</th>\n      <th>job_description</th>\n    </tr>\n  </thead>\n  <tbody>\n    <tr>\n      <th>0</th>\n      <td>Talentheed Inc</td>\n      <td>Junior Data Scientist</td>\n      <td>Remote</td>\n      <td>Remote</td>\n      <td>57000-119000</td>\n      <td>57000.0</td>\n      <td>119000.0</td>\n      <td>0</td>\n      <td>0</td>\n      <td>0</td>\n      <td>0</td>\n      <td>-1.0</td>\n      <td>Not given</td>\n      <td>Not given</td>\n      <td>16.0</td>\n      <td>Responsibilities:\\nIdentify valuable data sour...</td>\n    </tr>\n    <tr>\n      <th>1</th>\n      <td>sourcemantra</td>\n      <td>Data Scientist</td>\n      <td>Redmond, WA</td>\n      <td>WA</td>\n      <td>63000-123000</td>\n      <td>63000.0</td>\n      <td>123000.0</td>\n      <td>0</td>\n      <td>0</td>\n      <td>0</td>\n      <td>0</td>\n      <td>3.7</td>\n      <td>Financial Services</td>\n      <td>Accounting &amp; Tax</td>\n      <td>25.0</td>\n      <td>Hi,\\nHope you are doing good!!!\\nRole: Data Sc...</td>\n    </tr>\n  </tbody>\n</table>\n</div>"
     },
     "execution_count": 2,
     "metadata": {},
     "output_type": "execute_result"
    }
   ],
   "source": [
    "df = pd.read_csv('clean_jobs_data.csv')\n",
    "df.head(2)"
   ],
   "metadata": {
    "collapsed": false,
    "pycharm": {
     "name": "#%%\n"
    }
   }
  },
  {
   "cell_type": "code",
   "execution_count": 3,
   "outputs": [
    {
     "data": {
      "text/plain": "Index(['company_name', 'job_title', 'location', 'state', 'est_salary',\n       'min_salary', 'max_salary', 'python', 'spark', 'excel', 'aws', 'rating',\n       'sector', 'industry', 'job_age', 'job_description'],\n      dtype='object')"
     },
     "execution_count": 3,
     "metadata": {},
     "output_type": "execute_result"
    }
   ],
   "source": [
    "df.columns"
   ],
   "metadata": {
    "collapsed": false,
    "pycharm": {
     "name": "#%%\n"
    }
   }
  },
  {
   "cell_type": "code",
   "execution_count": 5,
   "outputs": [],
   "source": [
    "def simplify_job_title(job_title):\n",
    "    if 'data science' in job_title.lower() or 'data scientist' in job_title.lower():\n",
    "        return 'data science'\n",
    "    elif 'machine learning' in job_title.lower():\n",
    "        return 'ml'\n",
    "    elif 'analyst' in job_title.lower():\n",
    "        return 'analyst'\n",
    "    elif 'data engineer' in job_title.lower():\n",
    "        return 'data engineer'\n",
    "    elif 'manager' in job_title.lower():\n",
    "        return 'manager'\n",
    "    elif 'director' in job_title.lower():\n",
    "        return 'director'\n",
    "    else:\n",
    "        return 'na'\n",
    "\n",
    "def seniority(job_title):\n",
    "    for sen_sen in ['senior', 'sr', 'sr.']:\n",
    "        if sen_sen in job_title.lower():\n",
    "            return 'senior'\n",
    "    for sen_jr in ['junior', 'jr', 'jr.']:\n",
    "        if sen_jr in job_title.lower():\n",
    "            return 'junior'\n",
    "    return 'na'"
   ],
   "metadata": {
    "collapsed": false,
    "pycharm": {
     "name": "#%%\n"
    }
   }
  },
  {
   "cell_type": "code",
   "execution_count": 6,
   "outputs": [],
   "source": [
    "df['simp_job_title'] = df.job_title.apply(lambda x: simplify_job_title(x))\n",
    "df['seniority'] = df.job_title.apply(lambda x: seniority(x))\n",
    "df['job_description'] = df.job_description.apply(lambda x: x.lower())\n",
    "df['avg_salary'] = (df['min_salary'] + df['max_salary']) / 2"
   ],
   "metadata": {
    "collapsed": false,
    "pycharm": {
     "name": "#%%\n"
    }
   }
  },
  {
   "cell_type": "code",
   "execution_count": 7,
   "outputs": [
    {
     "data": {
      "text/plain": "na        802\nsenior    155\njunior     43\nName: seniority, dtype: int64"
     },
     "execution_count": 7,
     "metadata": {},
     "output_type": "execute_result"
    }
   ],
   "source": [
    "df.seniority.value_counts()"
   ],
   "metadata": {
    "collapsed": false,
    "pycharm": {
     "name": "#%%\n"
    }
   }
  },
  {
   "cell_type": "code",
   "execution_count": 9,
   "outputs": [
    {
     "data": {
      "text/plain": "data science     966\nna                17\nml                16\ndata engineer      1\nName: simp_job_title, dtype: int64"
     },
     "execution_count": 9,
     "metadata": {},
     "output_type": "execute_result"
    }
   ],
   "source": [
    "df.simp_job_title.value_counts()"
   ],
   "metadata": {
    "collapsed": false,
    "pycharm": {
     "name": "#%%\n"
    }
   }
  },
  {
   "cell_type": "code",
   "execution_count": 10,
   "outputs": [
    {
     "data": {
      "text/plain": "          min_salary     max_salary     python        spark        excel  \\\ncount    1000.000000    1000.000000  1000.0000  1000.000000  1000.000000   \nmean    92447.200000  149357.600000     0.1020     0.001000     0.002000   \nstd     32939.230791   44444.731706     0.3028     0.031623     0.044699   \nmin         0.000000       0.000000     0.0000     0.000000     0.000000   \n25%     70000.000000  127000.000000     0.0000     0.000000     0.000000   \n50%     92000.000000  140000.000000     0.0000     0.000000     0.000000   \n75%    115000.000000  167000.000000     0.0000     0.000000     0.000000   \nmax    191000.000000  276000.000000     1.0000     1.000000     1.000000   \n\n               aws       rating     job_age     avg_salary  \ncount  1000.000000  1000.000000  998.000000    1000.000000  \nmean      0.032000     3.555100    9.581162  120902.400000  \nstd       0.176088     1.368103    9.769301   35337.583095  \nmin       0.000000    -1.000000    1.000000       0.000000  \n25%       0.000000     3.500000    3.000000  103000.000000  \n50%       0.000000     3.900000    4.000000  117000.000000  \n75%       0.000000     4.200000   16.000000  141500.000000  \nmax       1.000000     5.000000   30.000000  233500.000000  ",
      "text/html": "<div>\n<style scoped>\n    .dataframe tbody tr th:only-of-type {\n        vertical-align: middle;\n    }\n\n    .dataframe tbody tr th {\n        vertical-align: top;\n    }\n\n    .dataframe thead th {\n        text-align: right;\n    }\n</style>\n<table border=\"1\" class=\"dataframe\">\n  <thead>\n    <tr style=\"text-align: right;\">\n      <th></th>\n      <th>min_salary</th>\n      <th>max_salary</th>\n      <th>python</th>\n      <th>spark</th>\n      <th>excel</th>\n      <th>aws</th>\n      <th>rating</th>\n      <th>job_age</th>\n      <th>avg_salary</th>\n    </tr>\n  </thead>\n  <tbody>\n    <tr>\n      <th>count</th>\n      <td>1000.000000</td>\n      <td>1000.000000</td>\n      <td>1000.0000</td>\n      <td>1000.000000</td>\n      <td>1000.000000</td>\n      <td>1000.000000</td>\n      <td>1000.000000</td>\n      <td>998.000000</td>\n      <td>1000.000000</td>\n    </tr>\n    <tr>\n      <th>mean</th>\n      <td>92447.200000</td>\n      <td>149357.600000</td>\n      <td>0.1020</td>\n      <td>0.001000</td>\n      <td>0.002000</td>\n      <td>0.032000</td>\n      <td>3.555100</td>\n      <td>9.581162</td>\n      <td>120902.400000</td>\n    </tr>\n    <tr>\n      <th>std</th>\n      <td>32939.230791</td>\n      <td>44444.731706</td>\n      <td>0.3028</td>\n      <td>0.031623</td>\n      <td>0.044699</td>\n      <td>0.176088</td>\n      <td>1.368103</td>\n      <td>9.769301</td>\n      <td>35337.583095</td>\n    </tr>\n    <tr>\n      <th>min</th>\n      <td>0.000000</td>\n      <td>0.000000</td>\n      <td>0.0000</td>\n      <td>0.000000</td>\n      <td>0.000000</td>\n      <td>0.000000</td>\n      <td>-1.000000</td>\n      <td>1.000000</td>\n      <td>0.000000</td>\n    </tr>\n    <tr>\n      <th>25%</th>\n      <td>70000.000000</td>\n      <td>127000.000000</td>\n      <td>0.0000</td>\n      <td>0.000000</td>\n      <td>0.000000</td>\n      <td>0.000000</td>\n      <td>3.500000</td>\n      <td>3.000000</td>\n      <td>103000.000000</td>\n    </tr>\n    <tr>\n      <th>50%</th>\n      <td>92000.000000</td>\n      <td>140000.000000</td>\n      <td>0.0000</td>\n      <td>0.000000</td>\n      <td>0.000000</td>\n      <td>0.000000</td>\n      <td>3.900000</td>\n      <td>4.000000</td>\n      <td>117000.000000</td>\n    </tr>\n    <tr>\n      <th>75%</th>\n      <td>115000.000000</td>\n      <td>167000.000000</td>\n      <td>0.0000</td>\n      <td>0.000000</td>\n      <td>0.000000</td>\n      <td>0.000000</td>\n      <td>4.200000</td>\n      <td>16.000000</td>\n      <td>141500.000000</td>\n    </tr>\n    <tr>\n      <th>max</th>\n      <td>191000.000000</td>\n      <td>276000.000000</td>\n      <td>1.0000</td>\n      <td>1.000000</td>\n      <td>1.000000</td>\n      <td>1.000000</td>\n      <td>5.000000</td>\n      <td>30.000000</td>\n      <td>233500.000000</td>\n    </tr>\n  </tbody>\n</table>\n</div>"
     },
     "execution_count": 10,
     "metadata": {},
     "output_type": "execute_result"
    }
   ],
   "source": [
    "df.describe()"
   ],
   "metadata": {
    "collapsed": false,
    "pycharm": {
     "name": "#%%\n"
    }
   }
  },
  {
   "cell_type": "code",
   "execution_count": null,
   "outputs": [],
   "source": [],
   "metadata": {
    "collapsed": false,
    "pycharm": {
     "name": "#%%\n"
    }
   }
  },
  {
   "cell_type": "code",
   "execution_count": null,
   "outputs": [],
   "source": [],
   "metadata": {
    "collapsed": false,
    "pycharm": {
     "name": "#%%\n"
    }
   }
  },
  {
   "cell_type": "code",
   "execution_count": null,
   "metadata": {
    "collapsed": true
   },
   "outputs": [],
   "source": []
  }
 ],
 "metadata": {
  "kernelspec": {
   "display_name": "Python 3",
   "language": "python",
   "name": "python3"
  },
  "language_info": {
   "codemirror_mode": {
    "name": "ipython",
    "version": 2
   },
   "file_extension": ".py",
   "mimetype": "text/x-python",
   "name": "python",
   "nbconvert_exporter": "python",
   "pygments_lexer": "ipython2",
   "version": "2.7.6"
  }
 },
 "nbformat": 4,
 "nbformat_minor": 0
}