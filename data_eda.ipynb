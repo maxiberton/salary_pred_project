{
 "cells": [
  {
   "cell_type": "code",
   "execution_count": 87,
   "outputs": [],
   "source": [
    "import pandas as pd\n",
    "import numpy as np\n",
    "import seaborn as sns\n",
    "import matplotlib.pyplot as plt"
   ],
   "metadata": {
    "collapsed": false,
    "pycharm": {
     "name": "#%%\n"
    }
   }
  },
  {
   "cell_type": "code",
   "execution_count": 88,
   "outputs": [
    {
     "data": {
      "text/plain": "  company_name                            job_title        location state  \\\n0      Spotify  Data Scientist, Spotify Advertising    New York, NY    NY   \n1     NTT DATA                       Data Scientist  Woonsocket, RI    RI   \n\n     est_salary  min_salary  max_salary  python  spark  excel  aws  rating  \\\n0  78000-182000     78000.0    182000.0       0      0      0    0     4.2   \n1            70    145600.0    145600.0       0      0      0    0     3.8   \n\n                   sector                                 industry  job_age  \\\n0  Information Technology                  Internet & Web Services     30.0   \n1  Information Technology  Information Technology Support Services      1.0   \n\n   company_age                                    job_description  \n0         16.0  Data, Research & Insights\\nData Science\\nAt Sp...  \n1         55.0  NTT Data is assisting our healthcare client se...  ",
      "text/html": "<div>\n<style scoped>\n    .dataframe tbody tr th:only-of-type {\n        vertical-align: middle;\n    }\n\n    .dataframe tbody tr th {\n        vertical-align: top;\n    }\n\n    .dataframe thead th {\n        text-align: right;\n    }\n</style>\n<table border=\"1\" class=\"dataframe\">\n  <thead>\n    <tr style=\"text-align: right;\">\n      <th></th>\n      <th>company_name</th>\n      <th>job_title</th>\n      <th>location</th>\n      <th>state</th>\n      <th>est_salary</th>\n      <th>min_salary</th>\n      <th>max_salary</th>\n      <th>python</th>\n      <th>spark</th>\n      <th>excel</th>\n      <th>aws</th>\n      <th>rating</th>\n      <th>sector</th>\n      <th>industry</th>\n      <th>job_age</th>\n      <th>company_age</th>\n      <th>job_description</th>\n    </tr>\n  </thead>\n  <tbody>\n    <tr>\n      <th>0</th>\n      <td>Spotify</td>\n      <td>Data Scientist, Spotify Advertising</td>\n      <td>New York, NY</td>\n      <td>NY</td>\n      <td>78000-182000</td>\n      <td>78000.0</td>\n      <td>182000.0</td>\n      <td>0</td>\n      <td>0</td>\n      <td>0</td>\n      <td>0</td>\n      <td>4.2</td>\n      <td>Information Technology</td>\n      <td>Internet &amp; Web Services</td>\n      <td>30.0</td>\n      <td>16.0</td>\n      <td>Data, Research &amp; Insights\\nData Science\\nAt Sp...</td>\n    </tr>\n    <tr>\n      <th>1</th>\n      <td>NTT DATA</td>\n      <td>Data Scientist</td>\n      <td>Woonsocket, RI</td>\n      <td>RI</td>\n      <td>70</td>\n      <td>145600.0</td>\n      <td>145600.0</td>\n      <td>0</td>\n      <td>0</td>\n      <td>0</td>\n      <td>0</td>\n      <td>3.8</td>\n      <td>Information Technology</td>\n      <td>Information Technology Support Services</td>\n      <td>1.0</td>\n      <td>55.0</td>\n      <td>NTT Data is assisting our healthcare client se...</td>\n    </tr>\n  </tbody>\n</table>\n</div>"
     },
     "execution_count": 88,
     "metadata": {},
     "output_type": "execute_result"
    }
   ],
   "source": [
    "df = pd.read_csv('clean_jobs_data_1.csv')\n",
    "df.head(2)"
   ],
   "metadata": {
    "collapsed": false,
    "pycharm": {
     "name": "#%%\n"
    }
   }
  },
  {
   "cell_type": "code",
   "execution_count": 89,
   "outputs": [
    {
     "data": {
      "text/plain": "Index(['company_name', 'job_title', 'location', 'state', 'est_salary',\n       'min_salary', 'max_salary', 'python', 'spark', 'excel', 'aws', 'rating',\n       'sector', 'industry', 'job_age', 'company_age', 'job_description'],\n      dtype='object')"
     },
     "execution_count": 89,
     "metadata": {},
     "output_type": "execute_result"
    }
   ],
   "source": [
    "df.columns"
   ],
   "metadata": {
    "collapsed": false,
    "pycharm": {
     "name": "#%%\n"
    }
   }
  },
  {
   "cell_type": "code",
   "execution_count": 90,
   "outputs": [],
   "source": [
    "def simplify_job_title(job_title):\n",
    "    if 'data science' in job_title.lower() or 'data scientist' in job_title.lower():\n",
    "        return 'data science'\n",
    "    elif 'machine learning' in job_title.lower():\n",
    "        return 'ml'\n",
    "    elif 'analyst' in job_title.lower():\n",
    "        return 'analyst'\n",
    "    elif 'data engineer' in job_title.lower():\n",
    "        return 'data engineer'\n",
    "    elif 'manager' in job_title.lower():\n",
    "        return 'manager'\n",
    "    elif 'director' in job_title.lower():\n",
    "        return 'director'\n",
    "    else:\n",
    "        return 'na'\n",
    "\n",
    "def seniority(job_title):\n",
    "    for sen_sen in ['senior', 'sr', 'sr.']:\n",
    "        if sen_sen in job_title.lower():\n",
    "            return 'senior'\n",
    "    for sen_jr in ['junior', 'jr', 'jr.']:\n",
    "        if sen_jr in job_title.lower():\n",
    "            return 'junior'\n",
    "    return 'na'"
   ],
   "metadata": {
    "collapsed": false,
    "pycharm": {
     "name": "#%%\n"
    }
   }
  },
  {
   "cell_type": "code",
   "execution_count": 91,
   "outputs": [],
   "source": [
    "df['simp_job_title'] = df.job_title.apply(lambda x: simplify_job_title(x))\n",
    "df['seniority'] = df.job_title.apply(lambda x: seniority(x))\n",
    "df['job_description'] = df.job_description.apply(lambda x: x.lower())\n",
    "df['avg_salary'] = (df['min_salary'] + df['max_salary']) / 2"
   ],
   "metadata": {
    "collapsed": false,
    "pycharm": {
     "name": "#%%\n"
    }
   }
  },
  {
   "cell_type": "code",
   "execution_count": 92,
   "outputs": [
    {
     "data": {
      "text/plain": "na        885\nsenior     67\njunior     48\nName: seniority, dtype: int64"
     },
     "execution_count": 92,
     "metadata": {},
     "output_type": "execute_result"
    }
   ],
   "source": [
    "df.seniority.value_counts()"
   ],
   "metadata": {
    "collapsed": false,
    "pycharm": {
     "name": "#%%\n"
    }
   }
  },
  {
   "cell_type": "code",
   "execution_count": 93,
   "outputs": [
    {
     "data": {
      "text/plain": "data science     940\nna                31\ndata engineer     28\nanalyst            1\nName: simp_job_title, dtype: int64"
     },
     "execution_count": 93,
     "metadata": {},
     "output_type": "execute_result"
    }
   ],
   "source": [
    "df.simp_job_title.value_counts()"
   ],
   "metadata": {
    "collapsed": false,
    "pycharm": {
     "name": "#%%\n"
    }
   }
  },
  {
   "cell_type": "code",
   "execution_count": 94,
   "outputs": [
    {
     "data": {
      "text/plain": "          min_salary     max_salary       python        spark        excel  \\\ncount    1000.000000    1000.000000  1000.000000  1000.000000  1000.000000   \nmean    95197.878880  136228.880000     0.106000     0.063000     0.041000   \nstd     30489.520434   56331.778001     0.307992     0.243085     0.198389   \nmin     30000.000000    2080.000000     0.000000     0.000000     0.000000   \n25%     75000.000000  116000.000000     0.000000     0.000000     0.000000   \n50%     90000.000000  135200.000000     0.000000     0.000000     0.000000   \n75%    117000.000000  168750.000000     0.000000     0.000000     0.000000   \nmax    191000.000000  276000.000000     1.000000     1.000000     1.000000   \n\n               aws       rating     job_age  company_age     avg_salary  \ncount  1000.000000  1000.000000  975.000000   1000.00000    1000.000000  \nmean      0.033000     3.029800   16.556923     23.69400  115713.379440  \nstd       0.178726     1.906239   11.990182     41.66798   36299.799228  \nmin       0.000000    -1.000000    1.000000     -1.00000   48638.940000  \n25%       0.000000     2.900000    4.500000     -1.00000   91000.000000  \n50%       0.000000     3.900000   14.000000      4.00000  120000.000000  \n75%       0.000000     4.200000   30.000000     23.00000  135000.000000  \nmax       1.000000     5.000000   30.000000    220.00000  233500.000000  ",
      "text/html": "<div>\n<style scoped>\n    .dataframe tbody tr th:only-of-type {\n        vertical-align: middle;\n    }\n\n    .dataframe tbody tr th {\n        vertical-align: top;\n    }\n\n    .dataframe thead th {\n        text-align: right;\n    }\n</style>\n<table border=\"1\" class=\"dataframe\">\n  <thead>\n    <tr style=\"text-align: right;\">\n      <th></th>\n      <th>min_salary</th>\n      <th>max_salary</th>\n      <th>python</th>\n      <th>spark</th>\n      <th>excel</th>\n      <th>aws</th>\n      <th>rating</th>\n      <th>job_age</th>\n      <th>company_age</th>\n      <th>avg_salary</th>\n    </tr>\n  </thead>\n  <tbody>\n    <tr>\n      <th>count</th>\n      <td>1000.000000</td>\n      <td>1000.000000</td>\n      <td>1000.000000</td>\n      <td>1000.000000</td>\n      <td>1000.000000</td>\n      <td>1000.000000</td>\n      <td>1000.000000</td>\n      <td>975.000000</td>\n      <td>1000.00000</td>\n      <td>1000.000000</td>\n    </tr>\n    <tr>\n      <th>mean</th>\n      <td>95197.878880</td>\n      <td>136228.880000</td>\n      <td>0.106000</td>\n      <td>0.063000</td>\n      <td>0.041000</td>\n      <td>0.033000</td>\n      <td>3.029800</td>\n      <td>16.556923</td>\n      <td>23.69400</td>\n      <td>115713.379440</td>\n    </tr>\n    <tr>\n      <th>std</th>\n      <td>30489.520434</td>\n      <td>56331.778001</td>\n      <td>0.307992</td>\n      <td>0.243085</td>\n      <td>0.198389</td>\n      <td>0.178726</td>\n      <td>1.906239</td>\n      <td>11.990182</td>\n      <td>41.66798</td>\n      <td>36299.799228</td>\n    </tr>\n    <tr>\n      <th>min</th>\n      <td>30000.000000</td>\n      <td>2080.000000</td>\n      <td>0.000000</td>\n      <td>0.000000</td>\n      <td>0.000000</td>\n      <td>0.000000</td>\n      <td>-1.000000</td>\n      <td>1.000000</td>\n      <td>-1.00000</td>\n      <td>48638.940000</td>\n    </tr>\n    <tr>\n      <th>25%</th>\n      <td>75000.000000</td>\n      <td>116000.000000</td>\n      <td>0.000000</td>\n      <td>0.000000</td>\n      <td>0.000000</td>\n      <td>0.000000</td>\n      <td>2.900000</td>\n      <td>4.500000</td>\n      <td>-1.00000</td>\n      <td>91000.000000</td>\n    </tr>\n    <tr>\n      <th>50%</th>\n      <td>90000.000000</td>\n      <td>135200.000000</td>\n      <td>0.000000</td>\n      <td>0.000000</td>\n      <td>0.000000</td>\n      <td>0.000000</td>\n      <td>3.900000</td>\n      <td>14.000000</td>\n      <td>4.00000</td>\n      <td>120000.000000</td>\n    </tr>\n    <tr>\n      <th>75%</th>\n      <td>117000.000000</td>\n      <td>168750.000000</td>\n      <td>0.000000</td>\n      <td>0.000000</td>\n      <td>0.000000</td>\n      <td>0.000000</td>\n      <td>4.200000</td>\n      <td>30.000000</td>\n      <td>23.00000</td>\n      <td>135000.000000</td>\n    </tr>\n    <tr>\n      <th>max</th>\n      <td>191000.000000</td>\n      <td>276000.000000</td>\n      <td>1.000000</td>\n      <td>1.000000</td>\n      <td>1.000000</td>\n      <td>1.000000</td>\n      <td>5.000000</td>\n      <td>30.000000</td>\n      <td>220.00000</td>\n      <td>233500.000000</td>\n    </tr>\n  </tbody>\n</table>\n</div>"
     },
     "execution_count": 94,
     "metadata": {},
     "output_type": "execute_result"
    }
   ],
   "source": [
    "df.describe()"
   ],
   "metadata": {
    "collapsed": false,
    "pycharm": {
     "name": "#%%\n"
    }
   }
  },
  {
   "cell_type": "code",
   "execution_count": 95,
   "outputs": [],
   "source": [
    "num_cols = list(df.select_dtypes(include=np.number).columns)\n",
    "for i in ['aws', 'python', 'spark', 'excel']:\n",
    "    num_cols.remove(i)"
   ],
   "metadata": {
    "collapsed": false,
    "pycharm": {
     "name": "#%%\n"
    }
   }
  },
  {
   "cell_type": "code",
   "execution_count": 96,
   "outputs": [
    {
     "data": {
      "text/plain": "['min_salary', 'max_salary', 'rating', 'job_age', 'company_age', 'avg_salary']"
     },
     "execution_count": 96,
     "metadata": {},
     "output_type": "execute_result"
    }
   ],
   "source": [
    "num_cols"
   ],
   "metadata": {
    "collapsed": false,
    "pycharm": {
     "name": "#%%\n"
    }
   }
  },
  {
   "cell_type": "code",
   "execution_count": 97,
   "metadata": {
    "collapsed": true
   },
   "outputs": [
    {
     "data": {
      "text/plain": "<Figure size 1152x720 with 6 Axes>",
      "image/png": "[encoded data removed]"
     },
     "metadata": {
      "needs_background": "light"
     },
     "output_type": "display_data"
    }
   ],
   "source": [
    "plt.figure(figsize=(16, 10))\n",
    "for pos, col in enumerate(num_cols):\n",
    "    plt.subplot(3, 2, pos+1)\n",
    "    sns.histplot(df[col], bins=8)\n",
    "    plt.xticks(rotation=30)"
   ]
  },
  {
   "cell_type": "code",
   "execution_count": 98,
   "outputs": [
    {
     "data": {
      "text/plain": "<AxesSubplot:>"
     },
     "execution_count": 98,
     "metadata": {},
     "output_type": "execute_result"
    },
    {
     "data": {
      "text/plain": "<Figure size 432x288 with 1 Axes>",
      "image/png": "[encoded data removed]"
     },
     "metadata": {
      "needs_background": "light"
     },
     "output_type": "display_data"
    }
   ],
   "source": [
    "df.boxplot(column=['min_salary', 'max_salary', 'avg_salary'])"
   ],
   "metadata": {
    "collapsed": false,
    "pycharm": {
     "name": "#%%\n"
    }
   }
  },
  {
   "cell_type": "code",
   "execution_count": 99,
   "outputs": [
    {
     "data": {
      "text/plain": "<AxesSubplot:>"
     },
     "execution_count": 99,
     "metadata": {},
     "output_type": "execute_result"
    },
    {
     "data": {
      "text/plain": "<Figure size 432x288 with 1 Axes>",
      "image/png": "[encoded data removed]"
     },
     "metadata": {
      "needs_background": "light"
     },
     "output_type": "display_data"
    }
   ],
   "source": [
    "df.boxplot(column=['rating'])"
   ],
   "metadata": {
    "collapsed": false,
    "pycharm": {
     "name": "#%%\n"
    }
   }
  },
  {
   "cell_type": "code",
   "execution_count": null,
   "outputs": [],
   "source": [],
   "metadata": {
    "collapsed": false,
    "pycharm": {
     "name": "#%%\n"
    }
   }
  }
 ],
 "metadata": {
  "kernelspec": {
   "display_name": "Python 3",
   "language": "python",
   "name": "python3"
  },
  "language_info": {
   "codemirror_mode": {
    "name": "ipython",
    "version": 2
   },
   "file_extension": ".py",
   "mimetype": "text/x-python",
   "name": "python",
   "nbconvert_exporter": "python",
   "pygments_lexer": "ipython2",
   "version": "2.7.6"
  }
 },
 "nbformat": 4,
 "nbformat_minor": 0
}