{
 "cells": [
  {
   "cell_type": "code",
   "execution_count": 7,
   "metadata": {
    "collapsed": true
   },
   "outputs": [],
   "source": [
    "import pandas as pd"
   ]
  },
  {
   "cell_type": "code",
   "execution_count": 8,
   "outputs": [],
   "source": [
    "df = pd.read_csv('test.csv')"
   ],
   "metadata": {
    "collapsed": false,
    "pycharm": {
     "name": "#%%\n"
    }
   }
  },
  {
   "cell_type": "code",
   "execution_count": 9,
   "outputs": [
    {
     "data": {
      "text/plain": "1000"
     },
     "execution_count": 9,
     "metadata": {},
     "output_type": "execute_result"
    }
   ],
   "source": [
    "len(df)"
   ],
   "metadata": {
    "collapsed": false,
    "pycharm": {
     "name": "#%%\n"
    }
   }
  },
  {
   "cell_type": "code",
   "execution_count": 11,
   "outputs": [
    {
     "data": {
      "text/plain": "                                company_name             location  \\\n60                                      MARS          Chicago, IL   \n61                                   Spotify         New York, NY   \n62                       First Republic Bank    San Francisco, CA   \n63                                      Visa  Highlands Ranch, CO   \n65                                Allscripts          Houston, TX   \n..                                       ...                  ...   \n995  American Express Global Business Travel         New York, NY   \n996                    The Coca-Cola Company            Plano, TX   \n997                                Atlassian    San Francisco, CA   \n998                      First Republic Bank    San Francisco, CA   \n999                                  Spotify         New York, NY   \n\n                                      job_title  \\\n60                               Data Scientist   \n61   Machine Learning Engineer, Personalization   \n62                               Data Scientist   \n63                               Data Scientist   \n65                   Jr Data Scientist - Remote   \n..                                          ...   \n995                Data Scientist II, Analytics   \n996                            Data Scientist 2   \n997                  Machine Learning Scientist   \n998                              Data Scientist   \n999  Machine Learning Engineer, Personalization   \n\n                        est_salary  \\\n60   $80K - $127K (Glassdoor est.)   \n61   $80K - $127K (Glassdoor est.)   \n62   $80K - $127K (Glassdoor est.)   \n63   $80K - $127K (Glassdoor est.)   \n65   $80K - $127K (Glassdoor est.)   \n..                             ...   \n995   $54K - $95K (Glassdoor est.)   \n996   $54K - $95K (Glassdoor est.)   \n997   $54K - $95K (Glassdoor est.)   \n998   $54K - $95K (Glassdoor est.)   \n999   $54K - $95K (Glassdoor est.)   \n\n                                       job_description rating  \\\n60   Data Scientist, Supply Chain Analytics\\nLocati...    4.2   \n61   Engineering\\nMachine Learning\\nThe Personaliza...    4.2   \n62   Description\\n**Visa sponsorship not available ...    4.2   \n63   Company Description\\n\\nVisa is a world leader ...    4.0   \n65   Welcome to Allscripts! Our Mission is to be th...    3.9   \n..                                                 ...    ...   \n995  Why Join Egencia?\\nConnections matter when it ...    4.2   \n996  About Enterprise Data and Analytics:\\nThe Data...    4.0   \n997  Working at Atlassian\\n\\nAtlassian can hire peo...    4.7   \n998  Description\\n**Visa sponsorship not available ...    4.2   \n999  Engineering\\nMachine Learning\\nThe Personaliza...    4.2   \n\n                     sector                                 industry job_age  \n60            Manufacturing            Food & Beverage Manufacturing      1d  \n61   Information Technology                  Internet & Web Services      1d  \n62       Financial Services                        Banking & Lending      6d  \n63   Information Technology  Information Technology Support Services      3d  \n65   Information Technology            Computer Hardware Development      8d  \n..                      ...                                      ...     ...  \n995      Financial Services         Financial Transaction Processing      2d  \n996           Manufacturing            Food & Beverage Manufacturing     24h  \n997  Information Technology            Computer Hardware Development     22d  \n998      Financial Services                        Banking & Lending      6d  \n999  Information Technology                  Internet & Web Services      1d  \n\n[603 rows x 9 columns]",
      "text/html": "<div>\n<style scoped>\n    .dataframe tbody tr th:only-of-type {\n        vertical-align: middle;\n    }\n\n    .dataframe tbody tr th {\n        vertical-align: top;\n    }\n\n    .dataframe thead th {\n        text-align: right;\n    }\n</style>\n<table border=\"1\" class=\"dataframe\">\n  <thead>\n    <tr style=\"text-align: right;\">\n      <th></th>\n      <th>company_name</th>\n      <th>location</th>\n      <th>job_title</th>\n      <th>est_salary</th>\n      <th>job_description</th>\n      <th>rating</th>\n      <th>sector</th>\n      <th>industry</th>\n      <th>job_age</th>\n    </tr>\n  </thead>\n  <tbody>\n    <tr>\n      <th>60</th>\n      <td>MARS</td>\n      <td>Chicago, IL</td>\n      <td>Data Scientist</td>\n      <td>$80K - $127K (Glassdoor est.)</td>\n      <td>Data Scientist, Supply Chain Analytics\\nLocati...</td>\n      <td>4.2</td>\n      <td>Manufacturing</td>\n      <td>Food &amp; Beverage Manufacturing</td>\n      <td>1d</td>\n    </tr>\n    <tr>\n      <th>61</th>\n      <td>Spotify</td>\n      <td>New York, NY</td>\n      <td>Machine Learning Engineer, Personalization</td>\n      <td>$80K - $127K (Glassdoor est.)</td>\n      <td>Engineering\\nMachine Learning\\nThe Personaliza...</td>\n      <td>4.2</td>\n      <td>Information Technology</td>\n      <td>Internet &amp; Web Services</td>\n      <td>1d</td>\n    </tr>\n    <tr>\n      <th>62</th>\n      <td>First Republic Bank</td>\n      <td>San Francisco, CA</td>\n      <td>Data Scientist</td>\n      <td>$80K - $127K (Glassdoor est.)</td>\n      <td>Description\\n**Visa sponsorship not available ...</td>\n      <td>4.2</td>\n      <td>Financial Services</td>\n      <td>Banking &amp; Lending</td>\n      <td>6d</td>\n    </tr>\n    <tr>\n      <th>63</th>\n      <td>Visa</td>\n      <td>Highlands Ranch, CO</td>\n      <td>Data Scientist</td>\n      <td>$80K - $127K (Glassdoor est.)</td>\n      <td>Company Description\\n\\nVisa is a world leader ...</td>\n      <td>4.0</td>\n      <td>Information Technology</td>\n      <td>Information Technology Support Services</td>\n      <td>3d</td>\n    </tr>\n    <tr>\n      <th>65</th>\n      <td>Allscripts</td>\n      <td>Houston, TX</td>\n      <td>Jr Data Scientist - Remote</td>\n      <td>$80K - $127K (Glassdoor est.)</td>\n      <td>Welcome to Allscripts! Our Mission is to be th...</td>\n      <td>3.9</td>\n      <td>Information Technology</td>\n      <td>Computer Hardware Development</td>\n      <td>8d</td>\n    </tr>\n    <tr>\n      <th>...</th>\n      <td>...</td>\n      <td>...</td>\n      <td>...</td>\n      <td>...</td>\n      <td>...</td>\n      <td>...</td>\n      <td>...</td>\n      <td>...</td>\n      <td>...</td>\n    </tr>\n    <tr>\n      <th>995</th>\n      <td>American Express Global Business Travel</td>\n      <td>New York, NY</td>\n      <td>Data Scientist II, Analytics</td>\n      <td>$54K - $95K (Glassdoor est.)</td>\n      <td>Why Join Egencia?\\nConnections matter when it ...</td>\n      <td>4.2</td>\n      <td>Financial Services</td>\n      <td>Financial Transaction Processing</td>\n      <td>2d</td>\n    </tr>\n    <tr>\n      <th>996</th>\n      <td>The Coca-Cola Company</td>\n      <td>Plano, TX</td>\n      <td>Data Scientist 2</td>\n      <td>$54K - $95K (Glassdoor est.)</td>\n      <td>About Enterprise Data and Analytics:\\nThe Data...</td>\n      <td>4.0</td>\n      <td>Manufacturing</td>\n      <td>Food &amp; Beverage Manufacturing</td>\n      <td>24h</td>\n    </tr>\n    <tr>\n      <th>997</th>\n      <td>Atlassian</td>\n      <td>San Francisco, CA</td>\n      <td>Machine Learning Scientist</td>\n      <td>$54K - $95K (Glassdoor est.)</td>\n      <td>Working at Atlassian\\n\\nAtlassian can hire peo...</td>\n      <td>4.7</td>\n      <td>Information Technology</td>\n      <td>Computer Hardware Development</td>\n      <td>22d</td>\n    </tr>\n    <tr>\n      <th>998</th>\n      <td>First Republic Bank</td>\n      <td>San Francisco, CA</td>\n      <td>Data Scientist</td>\n      <td>$54K - $95K (Glassdoor est.)</td>\n      <td>Description\\n**Visa sponsorship not available ...</td>\n      <td>4.2</td>\n      <td>Financial Services</td>\n      <td>Banking &amp; Lending</td>\n      <td>6d</td>\n    </tr>\n    <tr>\n      <th>999</th>\n      <td>Spotify</td>\n      <td>New York, NY</td>\n      <td>Machine Learning Engineer, Personalization</td>\n      <td>$54K - $95K (Glassdoor est.)</td>\n      <td>Engineering\\nMachine Learning\\nThe Personaliza...</td>\n      <td>4.2</td>\n      <td>Information Technology</td>\n      <td>Internet &amp; Web Services</td>\n      <td>1d</td>\n    </tr>\n  </tbody>\n</table>\n<p>603 rows × 9 columns</p>\n</div>"
     },
     "execution_count": 11,
     "metadata": {},
     "output_type": "execute_result"
    }
   ],
   "source": [
    "df.loc[df.duplicated()]"
   ],
   "metadata": {
    "collapsed": false,
    "pycharm": {
     "name": "#%%\n"
    }
   }
  },
  {
   "cell_type": "code",
   "execution_count": null,
   "outputs": [],
   "source": [],
   "metadata": {
    "collapsed": false,
    "pycharm": {
     "name": "#%%\n"
    }
   }
  }
 ],
 "metadata": {
  "kernelspec": {
   "display_name": "Python 3",
   "language": "python",
   "name": "python3"
  },
  "language_info": {
   "codemirror_mode": {
    "name": "ipython",
    "version": 2
   },
   "file_extension": ".py",
   "mimetype": "text/x-python",
   "name": "python",
   "nbconvert_exporter": "python",
   "pygments_lexer": "ipython2",
   "version": "2.7.6"
  }
 },
 "nbformat": 4,
 "nbformat_minor": 0
}