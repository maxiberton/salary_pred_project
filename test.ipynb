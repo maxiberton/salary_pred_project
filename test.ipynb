{
 "cells": [
  {
   "cell_type": "code",
   "execution_count": 1,
   "metadata": {
    "collapsed": true
   },
   "outputs": [],
   "source": [
    "import pandas as pd"
   ]
  },
  {
   "cell_type": "code",
   "execution_count": 2,
   "outputs": [
    {
     "data": {
      "text/plain": "                        company_name         location       job_title  \\\n0  LG Energy Solution Michigan, Inc.  Westborough, MA  Data Scientist   \n1                        ERPMark Inc           Remote  Data Scientist   \n\n                                    est_salary  \\\n0                $66K - $120K (Glassdoor est.)   \n1  Employer Provided Salary:$55 - $65 Per Hour   \n\n                                     job_description rating  \\\n0  LG Energy Solution (LGES) Vertech is a technol...    3.2   \n1  Role: Data Scientist\\nLocation: 100% Remote\\nD...    4.0   \n\n                    sector                industry  \n0            Manufacturing  Chemical Manufacturing  \n1  Management & Consulting     Business Consulting  ",
      "text/html": "<div>\n<style scoped>\n    .dataframe tbody tr th:only-of-type {\n        vertical-align: middle;\n    }\n\n    .dataframe tbody tr th {\n        vertical-align: top;\n    }\n\n    .dataframe thead th {\n        text-align: right;\n    }\n</style>\n<table border=\"1\" class=\"dataframe\">\n  <thead>\n    <tr style=\"text-align: right;\">\n      <th></th>\n      <th>company_name</th>\n      <th>location</th>\n      <th>job_title</th>\n      <th>est_salary</th>\n      <th>job_description</th>\n      <th>rating</th>\n      <th>sector</th>\n      <th>industry</th>\n    </tr>\n  </thead>\n  <tbody>\n    <tr>\n      <th>0</th>\n      <td>LG Energy Solution Michigan, Inc.</td>\n      <td>Westborough, MA</td>\n      <td>Data Scientist</td>\n      <td>$66K - $120K (Glassdoor est.)</td>\n      <td>LG Energy Solution (LGES) Vertech is a technol...</td>\n      <td>3.2</td>\n      <td>Manufacturing</td>\n      <td>Chemical Manufacturing</td>\n    </tr>\n    <tr>\n      <th>1</th>\n      <td>ERPMark Inc</td>\n      <td>Remote</td>\n      <td>Data Scientist</td>\n      <td>Employer Provided Salary:$55 - $65 Per Hour</td>\n      <td>Role: Data Scientist\\nLocation: 100% Remote\\nD...</td>\n      <td>4.0</td>\n      <td>Management &amp; Consulting</td>\n      <td>Business Consulting</td>\n    </tr>\n  </tbody>\n</table>\n</div>"
     },
     "execution_count": 2,
     "metadata": {},
     "output_type": "execute_result"
    }
   ],
   "source": [
    "df = pd.read_csv('test.csv')\n",
    "df.iloc[:2]"
   ],
   "metadata": {
    "collapsed": false,
    "pycharm": {
     "name": "#%%\n"
    }
   }
  },
  {
   "cell_type": "code",
   "execution_count": 6,
   "outputs": [
    {
     "data": {
      "text/plain": "{'company_name': 'LG Energy Solution Michigan, Inc.',\n 'location': 'Westborough, MA',\n 'job_title': 'Data Scientist',\n 'est_salary': '$66K - $120K (Glassdoor est.)',\n 'job_description': 'LG Energy Solution (LGES) Vertech is a technology leader in Li-ion based battery energy storage systems (BESS). We provide customizable clean energy storage solutions for renewables integration, commercial & industrial application, and utility-scale installations. LGES-Vertech plays a key role in EV mobility revolution that’s underway. LGES -Vertech is a vertically integrated company providing batteries, power-conversion system, system integration, and operations. LGES-Vertech has installed and maintained services for 1.2+GWHr of BESS in 180+ projects worldwide. Our proprietary AEROS® Energy Management Suite houses diverse data-related services such as data warehousing, remote monitoring, data visualization, and predictive maintenance.\\nThe Role\\nLGES-Vertech is looking for motivated Data Scientist to join their Data Science and Data Analysis group and be part of renewable energy revolution and be pioneer in creating data science products for the energy systems. The individual in this position would be responsible for solving some of the most complex and challenging issues in BESS products. The data scientist will have the opportunity to innovate new algorithms, expand our suite of data-driven products, and apply data science techniques to provide BESS which is safe, highly available, and efficiently interoperate in the energy market.',\n 'rating': '3.2',\n 'sector': 'Manufacturing',\n 'industry': 'Chemical Manufacturing'}"
     },
     "execution_count": 6,
     "metadata": {},
     "output_type": "execute_result"
    }
   ],
   "source": [
    "dict(df.iloc[0])"
   ],
   "metadata": {
    "collapsed": false,
    "pycharm": {
     "name": "#%%\n"
    }
   }
  },
  {
   "cell_type": "code",
   "execution_count": null,
   "outputs": [],
   "source": [],
   "metadata": {
    "collapsed": false,
    "pycharm": {
     "name": "#%%\n"
    }
   }
  }
 ],
 "metadata": {
  "kernelspec": {
   "display_name": "Python 3",
   "language": "python",
   "name": "python3"
  },
  "language_info": {
   "codemirror_mode": {
    "name": "ipython",
    "version": 2
   },
   "file_extension": ".py",
   "mimetype": "text/x-python",
   "name": "python",
   "nbconvert_exporter": "python",
   "pygments_lexer": "ipython2",
   "version": "2.7.6"
  }
 },
 "nbformat": 4,
 "nbformat_minor": 0
}